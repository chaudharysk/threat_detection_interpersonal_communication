{
  "nbformat": 4,
  "nbformat_minor": 0,
  "metadata": {
    "colab": {
      "provenance": []
    },
    "kernelspec": {
      "name": "python3",
      "display_name": "Python 3"
    },
    "language_info": {
      "name": "python"
    }
  },
  "cells": [
    {
      "cell_type": "code",
      "execution_count": null,
      "metadata": {
        "colab": {
          "base_uri": "https://localhost:8080/"
        },
        "id": "30orHAGufLEy",
        "outputId": "db700013-61ab-47ae-fde5-19e9d587db23"
      },
      "outputs": [
        {
          "output_type": "stream",
          "name": "stdout",
          "text": [
            "Looking in indexes: https://pypi.org/simple, https://us-python.pkg.dev/colab-wheels/public/simple/\n",
            "Requirement already satisfied: transformers in /usr/local/lib/python3.9/dist-packages (4.27.4)\n",
            "Requirement already satisfied: packaging>=20.0 in /usr/local/lib/python3.9/dist-packages (from transformers) (23.0)\n",
            "Requirement already satisfied: pyyaml>=5.1 in /usr/local/lib/python3.9/dist-packages (from transformers) (6.0)\n",
            "Requirement already satisfied: filelock in /usr/local/lib/python3.9/dist-packages (from transformers) (3.10.7)\n",
            "Requirement already satisfied: huggingface-hub<1.0,>=0.11.0 in /usr/local/lib/python3.9/dist-packages (from transformers) (0.13.4)\n",
            "Requirement already satisfied: numpy>=1.17 in /usr/local/lib/python3.9/dist-packages (from transformers) (1.22.4)\n",
            "Requirement already satisfied: tqdm>=4.27 in /usr/local/lib/python3.9/dist-packages (from transformers) (4.65.0)\n",
            "Requirement already satisfied: tokenizers!=0.11.3,<0.14,>=0.11.1 in /usr/local/lib/python3.9/dist-packages (from transformers) (0.13.3)\n",
            "Requirement already satisfied: requests in /usr/local/lib/python3.9/dist-packages (from transformers) (2.27.1)\n",
            "Requirement already satisfied: regex!=2019.12.17 in /usr/local/lib/python3.9/dist-packages (from transformers) (2022.10.31)\n",
            "Requirement already satisfied: typing-extensions>=3.7.4.3 in /usr/local/lib/python3.9/dist-packages (from huggingface-hub<1.0,>=0.11.0->transformers) (4.5.0)\n",
            "Requirement already satisfied: idna<4,>=2.5 in /usr/local/lib/python3.9/dist-packages (from requests->transformers) (3.4)\n",
            "Requirement already satisfied: charset-normalizer~=2.0.0 in /usr/local/lib/python3.9/dist-packages (from requests->transformers) (2.0.12)\n",
            "Requirement already satisfied: certifi>=2017.4.17 in /usr/local/lib/python3.9/dist-packages (from requests->transformers) (2022.12.7)\n",
            "Requirement already satisfied: urllib3<1.27,>=1.21.1 in /usr/local/lib/python3.9/dist-packages (from requests->transformers) (1.26.15)\n"
          ]
        }
      ],
      "source": [
        "!pip install transformers"
      ]
    },
    {
      "cell_type": "code",
      "source": [
        "import torch\n",
        "from torch.utils.data import TensorDataset, DataLoader, RandomSampler, SequentialSampler\n",
        "from transformers import BertTokenizer, BertForSequenceClassification\n",
        "from sklearn.model_selection import train_test_split\n",
        "\n",
        "import pandas as pd\n",
        "import numpy as np\n",
        "\n",
        "from tabulate import tabulate\n",
        "from tqdm import trange\n",
        "import random"
      ],
      "metadata": {
        "id": "7sIthJUYfOgf"
      },
      "execution_count": null,
      "outputs": []
    },
    {
      "cell_type": "code",
      "source": [
        "df = pd.read_csv(\"/content/csv for model.csv\")"
      ],
      "metadata": {
        "id": "Fm_xFgBf4Mcr"
      },
      "execution_count": null,
      "outputs": []
    },
    {
      "cell_type": "code",
      "source": [
        "# Remove those rows in which have  label is not mentioned\n",
        "df = df.dropna(subset=['label'])\n",
        "df['label'] = df['label'].astype(int)\n",
        "# Get the indices of the last 50 rows with label 0\n",
        "indices_to_remove = df[df['label'] == 0].index[-50:]\n",
        "\n",
        "# Remove those rows from the DataFrame\n",
        "df= df.drop(indices_to_remove)\n",
        "\n",
        "text = df.content.values\n",
        "labels = df.label.values\n"
      ],
      "metadata": {
        "id": "21NxmhtmfhEI",
        "colab": {
          "base_uri": "https://localhost:8080/"
        },
        "outputId": "1bf51935-6b3b-4a88-dc7f-9f2ffe41862e"
      },
      "execution_count": null,
      "outputs": [
        {
          "output_type": "stream",
          "name": "stderr",
          "text": [
            "<ipython-input-38-285f981a6d2d>:3: SettingWithCopyWarning: \n",
            "A value is trying to be set on a copy of a slice from a DataFrame.\n",
            "Try using .loc[row_indexer,col_indexer] = value instead\n",
            "\n",
            "See the caveats in the documentation: https://pandas.pydata.org/pandas-docs/stable/user_guide/indexing.html#returning-a-view-versus-a-copy\n",
            "  df['label'] = df['label'].astype(int)\n"
          ]
        }
      ]
    },
    {
      "cell_type": "code",
      "source": [
        "# Count the occurrences of each class in the 'label' column\n",
        "label_counts = df['label'].value_counts()\n",
        "\n",
        "# Print the counts\n",
        "print(label_counts)"
      ],
      "metadata": {
        "colab": {
          "base_uri": "https://localhost:8080/"
        },
        "id": "masx_MdUbMt3",
        "outputId": "eaad760a-494c-4390-fc9f-e388f706cb64"
      },
      "execution_count": null,
      "outputs": [
        {
          "output_type": "stream",
          "name": "stdout",
          "text": [
            "0    111\n",
            "1    107\n",
            "Name: label, dtype: int64\n"
          ]
        }
      ]
    },
    {
      "cell_type": "code",
      "source": [
        "tokenizer = BertTokenizer.from_pretrained(\n",
        "    'bert-base-uncased',\n",
        "    do_lower_case = True\n",
        "    )"
      ],
      "metadata": {
        "id": "Z18NT-U-fjtY"
      },
      "execution_count": null,
      "outputs": []
    },
    {
      "cell_type": "code",
      "source": [
        "def print_rand_sentence():\n",
        "  '''Displays the tokens and respective IDs of a random text sample'''\n",
        "  index = random.randint(0, len(text)-1)\n",
        "  table = np.array([tokenizer.tokenize(text[index]), \n",
        "                    tokenizer.convert_tokens_to_ids(tokenizer.tokenize(text[index]))]).T\n",
        "  print(tabulate(table,\n",
        "                 headers = ['Tokens', 'Token IDs'],\n",
        "                 tablefmt = 'fancy_grid'))\n",
        "\n",
        "print_rand_sentence()"
      ],
      "metadata": {
        "colab": {
          "base_uri": "https://localhost:8080/"
        },
        "id": "sdtoy7qefmU7",
        "outputId": "b7aa6c8b-cd53-4322-fa63-92ddde7cf125"
      },
      "execution_count": null,
      "outputs": [
        {
          "output_type": "stream",
          "name": "stdout",
          "text": [
            "╒════════════╤═════════════╕\n",
            "│ Tokens     │   Token IDs │\n",
            "╞════════════╪═════════════╡\n",
            "│ anything   │        2505 │\n",
            "├────────────┼─────────────┤\n",
            "│ happens    │        6433 │\n",
            "├────────────┼─────────────┤\n",
            "│ in         │        1999 │\n",
            "├────────────┼─────────────┤\n",
            "│ that       │        2008 │\n",
            "├────────────┼─────────────┤\n",
            "│ five       │        2274 │\n",
            "├────────────┼─────────────┤\n",
            "│ minutes    │        2781 │\n",
            "├────────────┼─────────────┤\n",
            "│ and        │        1998 │\n",
            "├────────────┼─────────────┤\n",
            "│ i          │        1045 │\n",
            "├────────────┼─────────────┤\n",
            "│ '          │        1005 │\n",
            "├────────────┼─────────────┤\n",
            "│ m          │        1049 │\n",
            "├────────────┼─────────────┤\n",
            "│ yours      │        6737 │\n",
            "├────────────┼─────────────┤\n",
            "│ no         │        2053 │\n",
            "├────────────┼─────────────┤\n",
            "│ matter     │        3043 │\n",
            "├────────────┼─────────────┤\n",
            "│ what       │        2054 │\n",
            "├────────────┼─────────────┤\n",
            "│ happens    │        6433 │\n",
            "├────────────┼─────────────┤\n",
            "│ a          │        1037 │\n",
            "├────────────┼─────────────┤\n",
            "│ minute     │        3371 │\n",
            "├────────────┼─────────────┤\n",
            "│ either     │        2593 │\n",
            "├────────────┼─────────────┤\n",
            "│ side       │        2217 │\n",
            "├────────────┼─────────────┤\n",
            "│ of         │        1997 │\n",
            "├────────────┼─────────────┤\n",
            "│ that       │        2008 │\n",
            "├────────────┼─────────────┤\n",
            "│ and        │        1998 │\n",
            "├────────────┼─────────────┤\n",
            "│ you        │        2017 │\n",
            "├────────────┼─────────────┤\n",
            "│ '          │        1005 │\n",
            "├────────────┼─────────────┤\n",
            "│ re         │        2128 │\n",
            "├────────────┼─────────────┤\n",
            "│ on         │        2006 │\n",
            "├────────────┼─────────────┤\n",
            "│ your       │        2115 │\n",
            "├────────────┼─────────────┤\n",
            "│ own        │        2219 │\n",
            "├────────────┼─────────────┤\n",
            "│ the        │        1996 │\n",
            "├────────────┼─────────────┤\n",
            "│ driver     │        4062 │\n",
            "├────────────┼─────────────┤\n",
            "│ may        │        2089 │\n",
            "├────────────┼─────────────┤\n",
            "│ be         │        2022 │\n",
            "├────────────┼─────────────┤\n",
            "│ fast       │        3435 │\n",
            "├────────────┼─────────────┤\n",
            "│ but        │        2021 │\n",
            "├────────────┼─────────────┤\n",
            "│ he         │        2002 │\n",
            "├────────────┼─────────────┤\n",
            "│ also       │        2036 │\n",
            "├────────────┼─────────────┤\n",
            "│ drives     │        9297 │\n",
            "├────────────┼─────────────┤\n",
            "│ smart      │        6047 │\n",
            "├────────────┼─────────────┤\n",
            "│ he         │        2002 │\n",
            "├────────────┼─────────────┤\n",
            "│ listen     │        4952 │\n",
            "├────────────┼─────────────┤\n",
            "│ ##s        │        2015 │\n",
            "├────────────┼─────────────┤\n",
            "│ in         │        1999 │\n",
            "├────────────┼─────────────┤\n",
            "│ to         │        2000 │\n",
            "├────────────┼─────────────┤\n",
            "│ both       │        2119 │\n",
            "├────────────┼─────────────┤\n",
            "│ the        │        1996 │\n",
            "├────────────┼─────────────┤\n",
            "│ police     │        2610 │\n",
            "├────────────┼─────────────┤\n",
            "│ and        │        1998 │\n",
            "├────────────┼─────────────┤\n",
            "│ a          │        1037 │\n",
            "├────────────┼─────────────┤\n",
            "│ local      │        2334 │\n",
            "├────────────┼─────────────┤\n",
            "│ basketball │        3455 │\n",
            "├────────────┼─────────────┤\n",
            "│ game       │        2208 │\n",
            "├────────────┼─────────────┤\n",
            "│ which      │        2029 │\n",
            "├────────────┼─────────────┤\n",
            "│ he         │        2002 │\n",
            "├────────────┼─────────────┤\n",
            "│ clever     │       12266 │\n",
            "├────────────┼─────────────┤\n",
            "│ ##ly       │        2135 │\n",
            "├────────────┼─────────────┤\n",
            "│ uses       │        3594 │\n",
            "├────────────┼─────────────┤\n",
            "│ to         │        2000 │\n",
            "├────────────┼─────────────┤\n",
            "│ evade      │       26399 │\n",
            "├────────────┼─────────────┤\n",
            "│ their      │        2037 │\n",
            "├────────────┼─────────────┤\n",
            "│ notice     │        5060 │\n",
            "├────────────┼─────────────┤\n",
            "│ eventually │        2776 │\n",
            "├────────────┼─────────────┤\n",
            "│ slipping   │       11426 │\n",
            "├────────────┼─────────────┤\n",
            "│ into       │        2046 │\n",
            "├────────────┼─────────────┤\n",
            "│ the        │        1996 │\n",
            "├────────────┼─────────────┤\n",
            "│ crowd      │        4306 │\n",
            "├────────────┼─────────────┤\n",
            "│ when       │        2043 │\n",
            "├────────────┼─────────────┤\n",
            "│ the        │        1996 │\n",
            "├────────────┼─────────────┤\n",
            "│ game       │        2208 │\n",
            "├────────────┼─────────────┤\n",
            "│ concludes  │       14730 │\n",
            "├────────────┼─────────────┤\n",
            "│ moody      │       14434 │\n",
            "├────────────┼─────────────┤\n",
            "│ and        │        1998 │\n",
            "├────────────┼─────────────┤\n",
            "│ ex         │        4654 │\n",
            "├────────────┼─────────────┤\n",
            "│ ##hila     │       26415 │\n",
            "├────────────┼─────────────┤\n",
            "│ ##rating   │       15172 │\n",
            "├────────────┼─────────────┤\n",
            "│ throughout │        2802 │\n",
            "├────────────┼─────────────┤\n",
            "│ this       │        2023 │\n",
            "├────────────┼─────────────┤\n",
            "│ get        │        2131 │\n",
            "├────────────┼─────────────┤\n",
            "│ ##away     │        9497 │\n",
            "├────────────┼─────────────┤\n",
            "│ drive      │        3298 │\n",
            "├────────────┼─────────────┤\n",
            "│ is         │        2003 │\n",
            "├────────────┼─────────────┤\n",
            "│ one        │        2028 │\n",
            "├────────────┼─────────────┤\n",
            "│ of         │        1997 │\n",
            "├────────────┼─────────────┤\n",
            "│ the        │        1996 │\n",
            "├────────────┼─────────────┤\n",
            "│ all        │        2035 │\n",
            "├────────────┼─────────────┤\n",
            "│ -          │        1011 │\n",
            "├────────────┼─────────────┤\n",
            "│ time       │        2051 │\n",
            "├────────────┼─────────────┤\n",
            "│ great      │        2307 │\n",
            "├────────────┼─────────────┤\n",
            "│ ##s        │        2015 │\n",
            "├────────────┼─────────────┤\n",
            "│ number     │        2193 │\n",
            "├────────────┼─────────────┤\n",
            "│ 13         │        2410 │\n",
            "├────────────┼─────────────┤\n",
            "│ .          │        1012 │\n",
            "├────────────┼─────────────┤\n",
            "│ damn       │        4365 │\n",
            "├────────────┼─────────────┤\n",
            "│ dive       │       11529 │\n",
            "├────────────┼─────────────┤\n",
            "│ the        │        1996 │\n",
            "├────────────┼─────────────┤\n",
            "│ fugitive   │       21329 │\n",
            "├────────────┼─────────────┤\n",
            "│ dr         │        2852 │\n",
            "├────────────┼─────────────┤\n",
            "│ richard    │        2957 │\n",
            "├────────────┼─────────────┤\n",
            "│ kimball    │       26659 │\n",
            "├────────────┼─────────────┤\n",
            "│ is         │        2003 │\n",
            "├────────────┼─────────────┤\n",
            "│ wrong      │        3308 │\n",
            "├────────────┼─────────────┤\n",
            "│ ##fully    │        7699 │\n",
            "├────────────┼─────────────┤\n",
            "│ convicted  │        7979 │\n",
            "├────────────┼─────────────┤\n",
            "│ of         │        1997 │\n",
            "├────────────┼─────────────┤\n",
            "│ his        │        2010 │\n",
            "├────────────┼─────────────┤\n",
            "│ wife       │        2564 │\n",
            "├────────────┼─────────────┤\n",
            "│ '          │        1005 │\n",
            "├────────────┼─────────────┤\n",
            "│ s          │        1055 │\n",
            "├────────────┼─────────────┤\n",
            "│ murder     │        4028 │\n",
            "├────────────┼─────────────┤\n",
            "│ a          │        1037 │\n",
            "├────────────┼─────────────┤\n",
            "│ prison     │        3827 │\n",
            "├────────────┼─────────────┤\n",
            "│ breakout   │       25129 │\n",
            "├────────────┼─────────────┤\n",
            "│ attempt    │        3535 │\n",
            "├────────────┼─────────────┤\n",
            "│ by         │        2011 │\n",
            "├────────────┼─────────────┤\n",
            "│ his        │        2010 │\n",
            "├────────────┼─────────────┤\n",
            "│ fellow     │        3507 │\n",
            "├────────────┼─────────────┤\n",
            "│ inmates    │       13187 │\n",
            "├────────────┼─────────────┤\n",
            "│ on         │        2006 │\n",
            "├────────────┼─────────────┤\n",
            "│ his        │        2010 │\n",
            "├────────────┼─────────────┤\n",
            "│ transport  │        3665 │\n",
            "├────────────┼─────────────┤\n",
            "│ bus        │        3902 │\n",
            "├────────────┼─────────────┤\n",
            "│ allows     │        4473 │\n",
            "├────────────┼─────────────┤\n",
            "│ kimball    │       26659 │\n",
            "├────────────┼─────────────┤\n",
            "│ to         │        2000 │\n",
            "├────────────┼─────────────┤\n",
            "│ escape     │        4019 │\n",
            "├────────────┼─────────────┤\n",
            "│ and        │        1998 │\n",
            "├────────────┼─────────────┤\n",
            "│ pursue     │        7323 │\n",
            "├────────────┼─────────────┤\n",
            "│ his        │        2010 │\n",
            "╘════════════╧═════════════╛\n"
          ]
        }
      ]
    },
    {
      "cell_type": "code",
      "source": [
        "token_id = []\n",
        "attention_masks = []\n",
        "\n",
        "def preprocessing(input_text, tokenizer):\n",
        "  '''\n",
        "  Returns <class transformers.tokenization_utils_base.BatchEncoding> with the following fields:\n",
        "    - input_ids: list of token ids\n",
        "    - token_type_ids: list of token type ids\n",
        "    - attention_mask: list of indices (0,1) specifying which tokens should considered by the model (return_attention_mask = True).\n",
        "  '''\n",
        "  return tokenizer.encode_plus(\n",
        "                        input_text,\n",
        "                        add_special_tokens = True,\n",
        "                        max_length = 32,\n",
        "                        pad_to_max_length = True,\n",
        "                        return_attention_mask = True,\n",
        "                        return_tensors = 'pt'\n",
        "                   )\n",
        "\n",
        "\n",
        "for sample in text:\n",
        "  encoding_dict = preprocessing(sample, tokenizer)\n",
        "  token_id.append(encoding_dict['input_ids']) \n",
        "  attention_masks.append(encoding_dict['attention_mask'])\n",
        "\n",
        "\n",
        "token_id = torch.cat(token_id, dim = 0)\n",
        "attention_masks = torch.cat(attention_masks, dim = 0)\n",
        "labels = torch.tensor(labels)"
      ],
      "metadata": {
        "colab": {
          "base_uri": "https://localhost:8080/"
        },
        "id": "uy0KGLGwfobE",
        "outputId": "e25012b1-804c-46c7-b31c-a36a15616101"
      },
      "execution_count": null,
      "outputs": [
        {
          "output_type": "stream",
          "name": "stderr",
          "text": [
            "Truncation was not explicitly activated but `max_length` is provided a specific value, please use `truncation=True` to explicitly truncate examples to max length. Defaulting to 'longest_first' truncation strategy. If you encode pairs of sequences (GLUE-style) with the tokenizer you can select this strategy more precisely by providing a specific strategy to `truncation`.\n",
            "/usr/local/lib/python3.9/dist-packages/transformers/tokenization_utils_base.py:2346: FutureWarning: The `pad_to_max_length` argument is deprecated and will be removed in a future version, use `padding=True` or `padding='longest'` to pad to the longest sequence in the batch, or use `padding='max_length'` to pad to a max length. In this case, you can give a specific length with `max_length` (e.g. `max_length=45`) or leave max_length to None to pad to the maximal input size of the model (e.g. 512 for Bert).\n",
            "  warnings.warn(\n"
          ]
        }
      ]
    },
    {
      "cell_type": "code",
      "source": [
        "token_id[6]\n"
      ],
      "metadata": {
        "colab": {
          "base_uri": "https://localhost:8080/"
        },
        "id": "mVb91hbOf3lL",
        "outputId": "e211320c-3798-41a2-e325-9ab596e2cd20"
      },
      "execution_count": null,
      "outputs": [
        {
          "output_type": "execute_result",
          "data": {
            "text/plain": [
              "tensor([  101,  1031,  7702, 21418,  1033,  2086,  1012,  1012,  1012,  1031,\n",
              "         5503,  6159,  1033,  2053,   102,     0,     0,     0,     0,     0,\n",
              "            0,     0,     0,     0,     0,     0,     0,     0,     0,     0,\n",
              "            0,     0])"
            ]
          },
          "metadata": {},
          "execution_count": 11
        }
      ]
    },
    {
      "cell_type": "code",
      "source": [
        "def print_rand_sentence_encoding():\n",
        "  '''Displays tokens, token IDs and attention mask of a random text sample'''\n",
        "  index = random.randint(0, len(text) - 1)\n",
        "  tokens = tokenizer.tokenize(tokenizer.decode(token_id[index]))\n",
        "  token_ids = [i.numpy() for i in token_id[index]]\n",
        "  attention = [i.numpy() for i in attention_masks[index]]\n",
        "\n",
        "  table = np.array([tokens, token_ids, attention]).T\n",
        "  print(tabulate(table, \n",
        "                 headers = ['Tokens', 'Token IDs', 'Attention Mask'],\n",
        "                 tablefmt = 'fancy_grid'))\n",
        "\n",
        "print_rand_sentence_encoding()"
      ],
      "metadata": {
        "colab": {
          "base_uri": "https://localhost:8080/"
        },
        "id": "FPNVZ2zaf5uZ",
        "outputId": "f1e6408e-3698-492c-d35b-6500f6bd67e0"
      },
      "execution_count": null,
      "outputs": [
        {
          "output_type": "stream",
          "name": "stdout",
          "text": [
            "╒════════════╤═════════════╤══════════════════╕\n",
            "│ Tokens     │   Token IDs │   Attention Mask │\n",
            "╞════════════╪═════════════╪══════════════════╡\n",
            "│ [CLS]      │         101 │                1 │\n",
            "├────────────┼─────────────┼──────────────────┤\n",
            "│ assaulted  │       17536 │                1 │\n",
            "├────────────┼─────────────┼──────────────────┤\n",
            "│ her        │        2014 │                1 │\n",
            "├────────────┼─────────────┼──────────────────┤\n",
            "│ it         │        2009 │                1 │\n",
            "├────────────┼─────────────┼──────────────────┤\n",
            "│ '          │        1005 │                1 │\n",
            "├────────────┼─────────────┼──────────────────┤\n",
            "│ s          │        1055 │                1 │\n",
            "├────────────┼─────────────┼──────────────────┤\n",
            "│ not        │        2025 │                1 │\n",
            "├────────────┼─────────────┼──────────────────┤\n",
            "│ good       │        2204 │                1 │\n",
            "├────────────┼─────────────┼──────────────────┤\n",
            "│ enough     │        2438 │                1 │\n",
            "├────────────┼─────────────┼──────────────────┤\n",
            "│ for        │        2005 │                1 │\n",
            "├────────────┼─────────────┼──────────────────┤\n",
            "│ you        │        2017 │                1 │\n",
            "├────────────┼─────────────┼──────────────────┤\n",
            "│ i          │        1045 │                1 │\n",
            "├────────────┼─────────────┼──────────────────┤\n",
            "│ hit        │        2718 │                1 │\n",
            "├────────────┼─────────────┼──────────────────┤\n",
            "│ her        │        2014 │                1 │\n",
            "├────────────┼─────────────┼──────────────────┤\n",
            "│ it         │        2009 │                1 │\n",
            "├────────────┼─────────────┼──────────────────┤\n",
            "│ '          │        1005 │                1 │\n",
            "├────────────┼─────────────┼──────────────────┤\n",
            "│ s          │        1055 │                1 │\n",
            "├────────────┼─────────────┼──────────────────┤\n",
            "│ not        │        2025 │                1 │\n",
            "├────────────┼─────────────┼──────────────────┤\n",
            "│ even       │        2130 │                1 │\n",
            "├────────────┼─────────────┼──────────────────┤\n",
            "│ close      │        2485 │                1 │\n",
            "├────────────┼─────────────┼──────────────────┤\n",
            "│ absolutely │        7078 │                1 │\n",
            "├────────────┼─────────────┼──────────────────┤\n",
            "│ not        │        2025 │                1 │\n",
            "├────────────┼─────────────┼──────────────────┤\n",
            "│ i          │        1045 │                1 │\n",
            "├────────────┼─────────────┼──────────────────┤\n",
            "│ never      │        2196 │                1 │\n",
            "├────────────┼─────────────┼──────────────────┤\n",
            "│ touched    │        5028 │                1 │\n",
            "├────────────┼─────────────┼──────────────────┤\n",
            "│ her        │        2014 │                1 │\n",
            "├────────────┼─────────────┼──────────────────┤\n",
            "│ we         │        2057 │                1 │\n",
            "├────────────┼─────────────┼──────────────────┤\n",
            "│ now        │        2085 │                1 │\n",
            "├────────────┼─────────────┼──────────────────┤\n",
            "│ believe    │        2903 │                1 │\n",
            "├────────────┼─────────────┼──────────────────┤\n",
            "│ nick       │        4172 │                1 │\n",
            "├────────────┼─────────────┼──────────────────┤\n",
            "│ is         │        2003 │                1 │\n",
            "├────────────┼─────────────┼──────────────────┤\n",
            "│ [SEP]      │         102 │                1 │\n",
            "╘════════════╧═════════════╧══════════════════╛\n"
          ]
        }
      ]
    },
    {
      "cell_type": "code",
      "source": [
        "val_ratio = 0.2\n",
        "# Recommended batch size: 16, 32. See: https://arxiv.org/pdf/1810.04805.pdf\n",
        "batch_size = 16\n",
        "\n",
        "# Indices of the train and validation splits stratified by labels\n",
        "train_idx, val_idx = train_test_split(\n",
        "    np.arange(len(labels)),\n",
        "    test_size = val_ratio,\n",
        "    shuffle = True,\n",
        "    stratify = labels)\n",
        "\n",
        "# Train and validation sets\n",
        "train_set = TensorDataset(token_id[train_idx], \n",
        "                          attention_masks[train_idx], \n",
        "                          labels[train_idx])\n",
        "\n",
        "val_set = TensorDataset(token_id[val_idx], \n",
        "                        attention_masks[val_idx], \n",
        "                        labels[val_idx])\n",
        "\n",
        "# Prepare DataLoader\n",
        "train_dataloader = DataLoader(\n",
        "            train_set,\n",
        "            sampler = RandomSampler(train_set),\n",
        "            batch_size = batch_size\n",
        "        )\n",
        "\n",
        "validation_dataloader = DataLoader(\n",
        "            val_set,\n",
        "            sampler = SequentialSampler(val_set),\n",
        "            batch_size = batch_size\n",
        "        )"
      ],
      "metadata": {
        "id": "cWDjYIh-f8sf"
      },
      "execution_count": null,
      "outputs": []
    },
    {
      "cell_type": "code",
      "source": [
        "def b_tp(preds, labels):\n",
        "  '''Returns True Positives (TP): count of correct predictions of actual class 1'''\n",
        "  return sum([preds == labels and preds == 1 for preds, labels in zip(preds, labels)])\n",
        "\n",
        "def b_fp(preds, labels):\n",
        "  '''Returns False Positives (FP): count of wrong predictions of actual class 1'''\n",
        "  return sum([preds != labels and preds == 1 for preds, labels in zip(preds, labels)])\n",
        "\n",
        "def b_tn(preds, labels):\n",
        "  '''Returns True Negatives (TN): count of correct predictions of actual class 0'''\n",
        "  return sum([preds == labels and preds == 0 for preds, labels in zip(preds, labels)])\n",
        "\n",
        "def b_fn(preds, labels):\n",
        "  '''Returns False Negatives (FN): count of wrong predictions of actual class 0'''\n",
        "  return sum([preds != labels and preds == 0 for preds, labels in zip(preds, labels)])\n",
        "\n",
        "def b_metrics(preds, labels):\n",
        "  '''\n",
        "  Returns the following metrics:\n",
        "    - accuracy    = (TP + TN) / N\n",
        "    - precision   = TP / (TP + FP)\n",
        "    - recall      = TP / (TP + FN)\n",
        "    - specificity = TN / (TN + FP)\n",
        "  '''\n",
        "  preds = np.argmax(preds, axis = 1).flatten()\n",
        "  labels = labels.flatten()\n",
        "  tp = b_tp(preds, labels)\n",
        "  tn = b_tn(preds, labels)\n",
        "  fp = b_fp(preds, labels)\n",
        "  fn = b_fn(preds, labels)\n",
        "  b_accuracy = (tp + tn) / len(labels)\n",
        "  b_precision = tp / (tp + fp) if (tp + fp) > 0 else 'nan'\n",
        "  b_recall = tp / (tp + fn) if (tp + fn) > 0 else 'nan'\n",
        "  b_specificity = tn / (tn + fp) if (tn + fp) > 0 else 'nan'\n",
        "  return b_accuracy, b_precision, b_recall, b_specificity"
      ],
      "metadata": {
        "id": "P5Lde0OUgCzq"
      },
      "execution_count": null,
      "outputs": []
    },
    {
      "cell_type": "code",
      "source": [
        "# Load the BertForSequenceClassification model\n",
        "model = BertForSequenceClassification.from_pretrained(\n",
        "    'bert-base-uncased',\n",
        "    num_labels = 2,\n",
        "    output_attentions = False,\n",
        "    output_hidden_states = False,\n",
        ")\n",
        "\n",
        "# Recommended learning rates (Adam): 5e-5, 3e-5, 2e-5. See: https://arxiv.org/pdf/1810.04805.pdf\n",
        "optimizer = torch.optim.AdamW(model.parameters(), \n",
        "                              lr = 5e-5,\n",
        "                              eps = 1e-08\n",
        "                              )\n",
        "\n",
        "# Run on GPU\n",
        "#model.cuda()"
      ],
      "metadata": {
        "colab": {
          "base_uri": "https://localhost:8080/"
        },
        "id": "C4B8saKtgLYz",
        "outputId": "45c45c6c-b5a5-48c2-d4a3-0dfe47d5d269"
      },
      "execution_count": null,
      "outputs": [
        {
          "output_type": "stream",
          "name": "stderr",
          "text": [
            "Some weights of the model checkpoint at bert-base-uncased were not used when initializing BertForSequenceClassification: ['cls.seq_relationship.weight', 'cls.seq_relationship.bias', 'cls.predictions.transform.dense.weight', 'cls.predictions.transform.LayerNorm.weight', 'cls.predictions.transform.LayerNorm.bias', 'cls.predictions.transform.dense.bias', 'cls.predictions.decoder.weight', 'cls.predictions.bias']\n",
            "- This IS expected if you are initializing BertForSequenceClassification from the checkpoint of a model trained on another task or with another architecture (e.g. initializing a BertForSequenceClassification model from a BertForPreTraining model).\n",
            "- This IS NOT expected if you are initializing BertForSequenceClassification from the checkpoint of a model that you expect to be exactly identical (initializing a BertForSequenceClassification model from a BertForSequenceClassification model).\n",
            "Some weights of BertForSequenceClassification were not initialized from the model checkpoint at bert-base-uncased and are newly initialized: ['classifier.weight', 'classifier.bias']\n",
            "You should probably TRAIN this model on a down-stream task to be able to use it for predictions and inference.\n"
          ]
        }
      ]
    },
    {
      "cell_type": "code",
      "source": [
        "device = torch.device('cuda' if torch.cuda.is_available() else 'cpu')\n",
        "\n",
        "# Recommended number of epochs: 2, 3, 4. See: https://arxiv.org/pdf/1810.04805.pdf\n",
        "epochs = 7\n",
        "\n",
        "for _ in trange(epochs, desc = 'Epoch'):\n",
        "    \n",
        "    # ========== Training ==========\n",
        "    \n",
        "    # Set model to training mode\n",
        "    model.train()\n",
        "    \n",
        "    # Tracking variables\n",
        "    tr_loss = 0\n",
        "    nb_tr_examples, nb_tr_steps = 0, 0\n",
        "\n",
        "    for step, batch in enumerate(train_dataloader):\n",
        "        batch = tuple(t.to(device) for t in batch)\n",
        "        b_input_ids, b_input_mask, b_labels = batch\n",
        "        optimizer.zero_grad()\n",
        "        # Forward pass\n",
        "        train_output = model(b_input_ids, \n",
        "                             token_type_ids = None, \n",
        "                             attention_mask = b_input_mask, \n",
        "                             labels = b_labels)\n",
        "        # Backward pass\n",
        "        train_output.loss.backward()\n",
        "        optimizer.step()\n",
        "        # Update tracking variables\n",
        "        tr_loss += train_output.loss.item()\n",
        "        nb_tr_examples += b_input_ids.size(0)\n",
        "        nb_tr_steps += 1\n",
        "\n",
        "    # ========== Validation ==========\n",
        "\n",
        "    # Set model to evaluation mode\n",
        "    model.eval()\n",
        "\n",
        "    # Tracking variables \n",
        "    val_accuracy = []\n",
        "    val_precision = []\n",
        "    val_recall = []\n",
        "    val_specificity = []\n",
        "\n",
        "    for batch in validation_dataloader:\n",
        "        batch = tuple(t.to(device) for t in batch)\n",
        "        b_input_ids, b_input_mask, b_labels = batch\n",
        "        with torch.no_grad():\n",
        "          # Forward pass\n",
        "          eval_output = model(b_input_ids, \n",
        "                              token_type_ids = None, \n",
        "                              attention_mask = b_input_mask)\n",
        "        logits = eval_output.logits.detach().cpu().numpy()\n",
        "        label_ids = b_labels.to('cpu').numpy()\n",
        "        # Calculate validation metrics\n",
        "        b_accuracy, b_precision, b_recall, b_specificity = b_metrics(logits, label_ids)\n",
        "        val_accuracy.append(b_accuracy)\n",
        "        # Update precision only when (tp + fp) !=0; ignore nan\n",
        "        if b_precision != 'nan': val_precision.append(b_precision)\n",
        "        # Update recall only when (tp + fn) !=0; ignore nan\n",
        "        if b_recall != 'nan': val_recall.append(b_recall)\n",
        "        # Update specificity only when (tn + fp) !=0; ignore nan\n",
        "        if b_specificity != 'nan': val_specificity.append(b_specificity)\n",
        "\n",
        "    print('\\n\\t - Train loss: {:.4f}'.format(tr_loss / nb_tr_steps))\n",
        "    print('\\t - Validation Accuracy: {:.4f}'.format(sum(val_accuracy)/len(val_accuracy)))\n",
        "    print('\\t - Validation Precision: {:.4f}'.format(sum(val_precision)/len(val_precision)) if len(val_precision)>0 else '\\t - Validation Precision: NaN')\n",
        "    print('\\t - Validation Recall: {:.4f}'.format(sum(val_recall)/len(val_recall)) if len(val_recall)>0 else '\\t - Validation Recall: NaN')\n",
        "    print('\\t - Validation Specificity: {:.4f}\\n'.format(sum(val_specificity)/len(val_specificity)) if len(val_specificity)>0 else '\\t - Validation Specificity: NaN')\n"
      ],
      "metadata": {
        "colab": {
          "base_uri": "https://localhost:8080/"
        },
        "id": "STWMvjD9gOL4",
        "outputId": "d0774258-2940-42aa-9079-f65576f0d994"
      },
      "execution_count": null,
      "outputs": [
        {
          "output_type": "stream",
          "name": "stderr",
          "text": [
            "Epoch:  14%|█▍        | 1/7 [01:28<08:51, 88.54s/it]"
          ]
        },
        {
          "output_type": "stream",
          "name": "stdout",
          "text": [
            "\n",
            "\t - Train loss: 0.7099\n",
            "\t - Validation Accuracy: 0.5278\n",
            "\t - Validation Precision: 0.4667\n",
            "\t - Validation Recall: 0.2910\n",
            "\t - Validation Specificity: 0.7672\n",
            "\n"
          ]
        },
        {
          "output_type": "stream",
          "name": "stderr",
          "text": [
            "\rEpoch:  29%|██▊       | 2/7 [02:50<07:01, 84.40s/it]"
          ]
        },
        {
          "output_type": "stream",
          "name": "stdout",
          "text": [
            "\n",
            "\t - Train loss: 0.6553\n",
            "\t - Validation Accuracy: 0.5208\n",
            "\t - Validation Precision: 0.5222\n",
            "\t - Validation Recall: 0.4101\n",
            "\t - Validation Specificity: 0.6270\n",
            "\n"
          ]
        },
        {
          "output_type": "stream",
          "name": "stderr",
          "text": [
            "\rEpoch:  43%|████▎     | 3/7 [04:07<05:24, 81.14s/it]"
          ]
        },
        {
          "output_type": "stream",
          "name": "stdout",
          "text": [
            "\n",
            "\t - Train loss: 0.5043\n",
            "\t - Validation Accuracy: 0.5347\n",
            "\t - Validation Precision: 0.5675\n",
            "\t - Validation Recall: 0.4286\n",
            "\t - Validation Specificity: 0.6561\n",
            "\n"
          ]
        },
        {
          "output_type": "stream",
          "name": "stderr",
          "text": [
            "\rEpoch:  57%|█████▋    | 4/7 [05:21<03:54, 78.25s/it]"
          ]
        },
        {
          "output_type": "stream",
          "name": "stdout",
          "text": [
            "\n",
            "\t - Train loss: 0.3343\n",
            "\t - Validation Accuracy: 0.5417\n",
            "\t - Validation Precision: 0.7222\n",
            "\t - Validation Recall: 0.2434\n",
            "\t - Validation Specificity: 0.8519\n",
            "\n"
          ]
        },
        {
          "output_type": "stream",
          "name": "stderr",
          "text": [
            "\rEpoch:  71%|███████▏  | 5/7 [06:39<02:36, 78.32s/it]"
          ]
        },
        {
          "output_type": "stream",
          "name": "stdout",
          "text": [
            "\n",
            "\t - Train loss: 0.1948\n",
            "\t - Validation Accuracy: 0.6389\n",
            "\t - Validation Precision: 0.6667\n",
            "\t - Validation Recall: 0.5026\n",
            "\t - Validation Specificity: 0.7672\n",
            "\n"
          ]
        },
        {
          "output_type": "stream",
          "name": "stderr",
          "text": [
            "\rEpoch:  86%|████████▌ | 6/7 [07:58<01:18, 78.63s/it]"
          ]
        },
        {
          "output_type": "stream",
          "name": "stdout",
          "text": [
            "\n",
            "\t - Train loss: 0.0908\n",
            "\t - Validation Accuracy: 0.5556\n",
            "\t - Validation Precision: 0.5417\n",
            "\t - Validation Recall: 0.6905\n",
            "\t - Validation Specificity: 0.4206\n",
            "\n"
          ]
        },
        {
          "output_type": "stream",
          "name": "stderr",
          "text": [
            "Epoch: 100%|██████████| 7/7 [09:16<00:00, 79.50s/it]"
          ]
        },
        {
          "output_type": "stream",
          "name": "stdout",
          "text": [
            "\n",
            "\t - Train loss: 0.0198\n",
            "\t - Validation Accuracy: 0.5486\n",
            "\t - Validation Precision: 0.5476\n",
            "\t - Validation Recall: 0.5608\n",
            "\t - Validation Specificity: 0.5423\n",
            "\n"
          ]
        },
        {
          "output_type": "stream",
          "name": "stderr",
          "text": [
            "\n"
          ]
        }
      ]
    },
    {
      "cell_type": "code",
      "source": [
        "from sklearn.metrics import accuracy_score\n",
        "def predict(texts, model, tokenizer):\n",
        "    inputs = tokenizer(texts, return_tensors='pt', truncation=True, padding=True)\n",
        "    outputs = model(**inputs)\n",
        "    logits = outputs.logits\n",
        "    probabilities = torch.softmax(logits, dim=-1)\n",
        "    predicted_classes = torch.argmax(probabilities, dim=-1)\n",
        "    return predicted_classes"
      ],
      "metadata": {
        "id": "wlc--c8iHDSp"
      },
      "execution_count": null,
      "outputs": []
    },
    {
      "cell_type": "code",
      "source": [
        "X_test=df['content'].tolist()"
      ],
      "metadata": {
        "id": "GIM2C56CKXZP"
      },
      "execution_count": null,
      "outputs": []
    },
    {
      "cell_type": "code",
      "source": [
        "X_test=X_test[:50]"
      ],
      "metadata": {
        "id": "bqM5uONwKuJT"
      },
      "execution_count": null,
      "outputs": []
    },
    {
      "cell_type": "code",
      "source": [
        "len(X_test)"
      ],
      "metadata": {
        "colab": {
          "base_uri": "https://localhost:8080/"
        },
        "id": "VS6LBlc-NGj4",
        "outputId": "1f78ff20-c2e5-42c2-e094-3666a16436dc"
      },
      "execution_count": null,
      "outputs": [
        {
          "output_type": "execute_result",
          "data": {
            "text/plain": [
              "50"
            ]
          },
          "metadata": {},
          "execution_count": 22
        }
      ]
    },
    {
      "cell_type": "code",
      "source": [
        "predictions = predict(X_test, model, tokenizer)\n",
        "predictions = predictions.detach().numpy()"
      ],
      "metadata": {
        "id": "_7OqwIJQFyRn"
      },
      "execution_count": null,
      "outputs": []
    },
    {
      "cell_type": "code",
      "source": [
        "y_test = df['label'].tolist()"
      ],
      "metadata": {
        "id": "BFhSdew_L_iW"
      },
      "execution_count": null,
      "outputs": []
    },
    {
      "cell_type": "code",
      "source": [
        "y_test=y_test[:50]"
      ],
      "metadata": {
        "id": "SnCtCDZnOBt6"
      },
      "execution_count": null,
      "outputs": []
    },
    {
      "cell_type": "code",
      "source": [
        "test_accuracy = accuracy_score(y_test, predictions)\n",
        "print(f\"Testing accuracy: {test_accuracy:.4f}\")"
      ],
      "metadata": {
        "colab": {
          "base_uri": "https://localhost:8080/"
        },
        "id": "1rgi85qyOFAb",
        "outputId": "ff35e6e1-59c3-40a9-f4eb-c22e56b8d4c4"
      },
      "execution_count": null,
      "outputs": [
        {
          "output_type": "stream",
          "name": "stdout",
          "text": [
            "Testing accuracy: 0.9200\n"
          ]
        }
      ]
    },
    {
      "cell_type": "code",
      "source": [
        "import pandas as pd\n",
        "from transformers import pipeline\n",
        "from sklearn.metrics import accuracy_score\n",
        "\n",
        "# Load your DataFrame\n",
        "df = df.sample(70)\n",
        "# Initialize the zero-shot classification pipeline\n",
        "zero_shot_classifier = pipeline(\"zero-shot-classification\", model=\"facebook/bart-large-mnli\")\n",
        "\n",
        "# Define your label candidates\n",
        "labels = [0, 1]\n",
        "\n",
        "# Function to predict label using the zero-shot classifier\n",
        "def predict_label(text):\n",
        "    result = zero_shot_classifier(text, labels)\n",
        "    predicted_label = result['labels'][0]\n",
        "    return 1 if predicted_label == \"threat\" else 0\n",
        "\n",
        "# Apply the prediction function to the 'text' column of the DataFrame\n",
        "df['predicted_label'] = df['content'].apply(predict_label)\n",
        "\n",
        "# Calculate accuracy\n",
        "accuracy = accuracy_score(df['label'], df['predicted_label'])\n",
        "\n",
        "print(f\"Accuracy: {accuracy * 100:.2f}%\")\n"
      ],
      "metadata": {
        "id": "eyPDIirZOJdG",
        "colab": {
          "base_uri": "https://localhost:8080/"
        },
        "outputId": "4b06ce98-9e58-4908-b6e7-9e8675f125c7"
      },
      "execution_count": null,
      "outputs": [
        {
          "output_type": "stream",
          "name": "stdout",
          "text": [
            "Accuracy: 48.57%\n"
          ]
        }
      ]
    },
    {
      "cell_type": "code",
      "source": [],
      "metadata": {
        "id": "JADJoBjQpQIU"
      },
      "execution_count": null,
      "outputs": []
    }
  ]
}